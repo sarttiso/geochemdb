


%load_ext autoreload
%autoreload 2

import pygeodb





import iolite_tools








database_path = 'example_data/geochemdb_example.db'
geochemdb = pygeodb.GeochemDB(database_path)

















df = iolite_tools.excel2measurements('example_data/2023-03_run-5_trace.xlsx',
                                     '2023-03', 5, 'trace')

df_measurements = iolite_tools.measurements2sql(df, refmat='91500')
df_analyses = iolite_tools.analyses2sql(df, date='2023-03-17',
                                        instrument='Nu Plasma 3D',
                                        technique='LASS ICPMS')
df_aliquots = iolite_tools.aliquots2sql(df, material='zircon')


geochemdb.measurements_add(df_measurements, df_analyses, df_aliquots)








geochemdb.measurements_update(df_measurements)





df_measurements = geochemdb.measurements_by_sample('AT2310 16.4')
