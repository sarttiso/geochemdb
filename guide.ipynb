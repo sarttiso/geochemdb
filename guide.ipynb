{
 "cells": [
  {
   "cell_type": "markdown",
   "id": "97a89d6c-4f8e-4597-a077-692a13d51756",
   "metadata": {},
   "source": [
    "# `pygeodb` guide"
   ]
  },
  {
   "cell_type": "code",
   "execution_count": 1,
   "id": "aec30348-8244-4f12-af3b-653d07575260",
   "metadata": {},
   "outputs": [],
   "source": [
    "%load_ext autoreload\n",
    "%autoreload 2\n",
    "\n",
    "import pygeodb"
   ]
  },
  {
   "cell_type": "markdown",
   "id": "f6f2fc84-9195-46ac-88be-5b8c190f2b7e",
   "metadata": {},
   "source": [
    "This notebook provides example utilization of the module with some example data reduced by Iolite 4. You will also need to have [iolite_tools](https://github.com/sarttiso/iolite_tools) to facilitate processing the example dataset into dataframes that are ready for `pygeodb`."
   ]
  },
  {
   "cell_type": "code",
   "execution_count": 2,
   "id": "09a979e3-662f-49e2-8a57-8336a25d3030",
   "metadata": {},
   "outputs": [],
   "source": [
    "import iolite_tools"
   ]
  },
  {
   "cell_type": "markdown",
   "id": "e2c24837-267f-4895-85da-f98d037196af",
   "metadata": {},
   "source": [
    "## Create `GeochemDB` Object"
   ]
  },
  {
   "cell_type": "markdown",
   "id": "ad02b992-b5cd-49a2-9a08-fedf4e0788b7",
   "metadata": {},
   "source": [
    "The core class for the `pygeodb` module is `GeochemDB`, which generates an object that allows you to interface with a geochemical SQLite database. The next well instatiates a `GeochemDB` object."
   ]
  },
  {
   "cell_type": "code",
   "execution_count": 3,
   "id": "415edb37-3268-4282-a90e-19ca658a08ae",
   "metadata": {},
   "outputs": [],
   "source": [
    "database_path = 'example_data/geochemdb_example.db'\n",
    "geochemdb = pygeodb.GeochemDB(database_path)"
   ]
  },
  {
   "cell_type": "markdown",
   "id": "e5df13a2-4a70-4351-bac8-37a07458b10b",
   "metadata": {},
   "source": [
    "## Adding Measurements"
   ]
  },
  {
   "cell_type": "markdown",
   "id": "7b789fc8-9bf9-403d-9bb1-886457975214",
   "metadata": {},
   "source": [
    "`GeochemDB.measurements_add()` adds new measurements to the `Measurements` table of the database."
   ]
  },
  {
   "cell_type": "markdown",
   "id": "20f0b801-8588-4b70-8ad7-927ddd311a51",
   "metadata": {},
   "source": [
    "**Note:** *`GeochemDB.measurements_add()` does not add samples to the `Samples` table.*"
   ]
  },
  {
   "cell_type": "markdown",
   "id": "f41eb2f8-da2a-41af-a9e7-a4614d5b58d9",
   "metadata": {},
   "source": [
    "To add measurements to the database, you have to provide three dataframes:\n",
    "1. **measurements** : This dataframe contains geochemical measurements as rows, alongside analysis names.\n",
    "2. **analyses** : This dataframe lists analyses and metadata. All analyses referenced in measurements should be present here. No other analyses should be present.\n",
    "3. **aliquots** : This datafram contains aliquots to which analyses belong. All aliquots referenced in the analsyes dataframe should be present here. No other aliquots should be present. "
   ]
  },
  {
   "cell_type": "markdown",
   "id": "5aa3892d-8066-4307-804a-3d5320a94fc6",
   "metadata": {},
   "source": [
    "Load in geochemical data from some source, and organize it as above. In this case, we're using `iolite_tools` to process reduced data exported into excel spreadsheets.  "
   ]
  },
  {
   "cell_type": "code",
   "execution_count": 11,
   "id": "c7e44b54-e57c-432f-bcf2-5b5d7722059e",
   "metadata": {},
   "outputs": [],
   "source": [
    "df = iolite_tools.excel2measurements('example_data/2023-03_run-5_trace.xlsx',\n",
    "                                     '2023-03', 5, 'trace')\n",
    "\n",
    "df_measurements = iolite_tools.measurements2sql(df, refmat='91500')\n",
    "df_analyses = iolite_tools.analyses2sql(df, date='2023-03-17',\n",
    "                                        instrument='Nu Plasma 3D',\n",
    "                                        technique='LASS ICPMS')\n",
    "df_aliquots = iolite_tools.aliquots2sql(df, material='zircon')"
   ]
  },
  {
   "cell_type": "code",
   "execution_count": 12,
   "id": "46150a18-e936-4baf-a6cb-08205869a4df",
   "metadata": {},
   "outputs": [
    {
     "name": "stdout",
     "output_type": "stream",
     "text": [
      "Sample names not matched:\n",
      "{'AT22 FRAN 17 29', 'NIST612', 'Ples', 'GJ1', '91500'}\n",
      "Added:\n",
      "122 aliquots,\n",
      "122 analyses,\n",
      "3416 measurements\n"
     ]
    }
   ],
   "source": [
    "geochemdb.measurements_add(df_measurements, df_analyses, df_aliquots)"
   ]
  },
  {
   "cell_type": "markdown",
   "id": "ce66950e-72a3-4007-94fd-7582d0e3198b",
   "metadata": {},
   "source": [
    "## Updating Measurements"
   ]
  },
  {
   "cell_type": "markdown",
   "id": "4edda827-3e72-4886-9164-8784a8c8ae50",
   "metadata": {},
   "source": [
    "`GeochemDB.measurements_update()` updates existing measurements in the `Measurements` table of the database. It does not add any rows to any table, and it only requires a measurements dataframe like the one created above."
   ]
  },
  {
   "cell_type": "code",
   "execution_count": 6,
   "id": "810fcfe2-90d5-4457-a9d3-d0c7335a6520",
   "metadata": {},
   "outputs": [
    {
     "name": "stdout",
     "output_type": "stream",
     "text": [
      "Updated:\n",
      "3416 measurements\n"
     ]
    }
   ],
   "source": [
    "geochemdb.measurements_update(df_measurements)"
   ]
  },
  {
   "cell_type": "markdown",
   "id": "564dfb46-690a-4cdb-b45a-ac27b14142a1",
   "metadata": {},
   "source": [
    "## Get Measurements by Sample"
   ]
  },
  {
   "cell_type": "code",
   "execution_count": 13,
   "id": "0bc86fcc-b95d-4da4-98d4-2d995fb8a0d0",
   "metadata": {},
   "outputs": [],
   "source": [
    "df_measurements = geochemdb.measurements_by_sample('AT2310 16.4')"
   ]
  }
 ],
 "metadata": {
  "kernelspec": {
   "display_name": "Python 3 (ipykernel)",
   "language": "python",
   "name": "python3"
  },
  "language_info": {
   "codemirror_mode": {
    "name": "ipython",
    "version": 3
   },
   "file_extension": ".py",
   "mimetype": "text/x-python",
   "name": "python",
   "nbconvert_exporter": "python",
   "pygments_lexer": "ipython3",
   "version": "3.10.11"
  }
 },
 "nbformat": 4,
 "nbformat_minor": 5
}
